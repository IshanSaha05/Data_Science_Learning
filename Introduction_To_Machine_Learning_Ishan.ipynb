{
  "nbformat": 4,
  "nbformat_minor": 0,
  "metadata": {
    "colab": {
      "name": "Introduction_To_Machine_Learning_Ishan.ipynb",
      "provenance": [],
      "collapsed_sections": [],
      "mount_file_id": "1s8bpWT-hINoMVQdu4pfC9Qes_bz0xEAT",
      "authorship_tag": "ABX9TyNCzxw7G650MFntIjjsFGsh",
      "include_colab_link": true
    },
    "kernelspec": {
      "name": "python3",
      "display_name": "Python 3"
    },
    "language_info": {
      "name": "python"
    }
  },
  "cells": [
    {
      "cell_type": "markdown",
      "metadata": {
        "id": "view-in-github",
        "colab_type": "text"
      },
      "source": [
        "<a href=\"https://colab.research.google.com/github/Rinaldrago05/Data_Science_Learning/blob/main/Introduction_To_Machine_Learning_Ishan.ipynb\" target=\"_parent\"><img src=\"https://colab.research.google.com/assets/colab-badge.svg\" alt=\"Open In Colab\"/></a>"
      ]
    },
    {
      "cell_type": "markdown",
      "metadata": {
        "id": "T7tZF3Qj8BfZ"
      },
      "source": [
        "# **Selecting Data for Modeling**\n",
        "\n"
      ]
    },
    {
      "cell_type": "code",
      "metadata": {
        "id": "nzuZA0-18AT-",
        "colab": {
          "base_uri": "https://localhost:8080/"
        },
        "outputId": "9099c401-afa5-4463-bcdc-39cba090b137"
      },
      "source": [
        "# Importing panas as usual.\n",
        "# Reading the file to work on with.\n",
        "\n",
        "import pandas as pd\n",
        "\n",
        "data=pd.read_csv(\"/content/drive/MyDrive/Colab Notebooks/Introduction_To_Machine_Learning/melb_data.csv\")\n",
        "data.columns"
      ],
      "execution_count": 11,
      "outputs": [
        {
          "output_type": "execute_result",
          "data": {
            "text/plain": [
              "Index(['Suburb', 'Address', 'Rooms', 'Type', 'Price', 'Method', 'SellerG',\n",
              "       'Date', 'Distance', 'Postcode', 'Bedroom2', 'Bathroom', 'Car',\n",
              "       'Landsize', 'BuildingArea', 'YearBuilt', 'CouncilArea', 'Lattitude',\n",
              "       'Longtitude', 'Regionname', 'Propertycount'],\n",
              "      dtype='object')"
            ]
          },
          "metadata": {},
          "execution_count": 11
        }
      ]
    },
    {
      "cell_type": "markdown",
      "metadata": {
        "id": "9cX2lc6pBhlD"
      },
      "source": [
        "# **Selecting The Prediction Target**"
      ]
    },
    {
      "cell_type": "markdown",
      "metadata": {
        "id": "97CuW1kwBUWo"
      },
      "source": [
        "During prediction we try to predict values for a particular field known as the **prediction target** using a model. Now, while training the model, we try to find patterns in other fields known as **features** in the dataset for which the the prediction target values may vary or may not.                                       \n",
        "**y = prediction target**                \n",
        "**X = features**\n"
      ]
    },
    {
      "cell_type": "code",
      "metadata": {
        "id": "PhS1aCHPGbWs"
      },
      "source": [
        "# Here we are selecting the predicton target in y.\n",
        "# We have used the Price col as our target variable, so after the model has been trained we will use to predict\n",
        "# values of Price for a given value of features.\n",
        "\n",
        "y=data.Price"
      ],
      "execution_count": 12,
      "outputs": []
    },
    {
      "cell_type": "markdown",
      "metadata": {
        "id": "S2pVLdgoIBX9"
      },
      "source": [
        "# **Choosing \"Features\"**"
      ]
    },
    {
      "cell_type": "code",
      "metadata": {
        "id": "9sR2FULhIJs9"
      },
      "source": [
        "# The X variable is used to store the features, with the help of which while prediction of the target vriable the\n",
        "# the prediction is done.\n",
        "\n",
        "X=data[['Rooms', 'Bathroom', 'Landsize', 'Lattitude', 'Longtitude']]"
      ],
      "execution_count": 13,
      "outputs": []
    },
    {
      "cell_type": "code",
      "metadata": {
        "id": "op3iyatwIQ-f",
        "colab": {
          "base_uri": "https://localhost:8080/",
          "height": 297
        },
        "outputId": "aa81b02e-54e3-4fef-9d67-cc9ea1c85099"
      },
      "source": [
        "X.describe()"
      ],
      "execution_count": 14,
      "outputs": [
        {
          "output_type": "execute_result",
          "data": {
            "text/html": [
              "<div>\n",
              "<style scoped>\n",
              "    .dataframe tbody tr th:only-of-type {\n",
              "        vertical-align: middle;\n",
              "    }\n",
              "\n",
              "    .dataframe tbody tr th {\n",
              "        vertical-align: top;\n",
              "    }\n",
              "\n",
              "    .dataframe thead th {\n",
              "        text-align: right;\n",
              "    }\n",
              "</style>\n",
              "<table border=\"1\" class=\"dataframe\">\n",
              "  <thead>\n",
              "    <tr style=\"text-align: right;\">\n",
              "      <th></th>\n",
              "      <th>Rooms</th>\n",
              "      <th>Bathroom</th>\n",
              "      <th>Landsize</th>\n",
              "      <th>Lattitude</th>\n",
              "      <th>Longtitude</th>\n",
              "    </tr>\n",
              "  </thead>\n",
              "  <tbody>\n",
              "    <tr>\n",
              "      <th>count</th>\n",
              "      <td>13580.000000</td>\n",
              "      <td>13580.000000</td>\n",
              "      <td>13580.000000</td>\n",
              "      <td>13580.000000</td>\n",
              "      <td>13580.000000</td>\n",
              "    </tr>\n",
              "    <tr>\n",
              "      <th>mean</th>\n",
              "      <td>2.937997</td>\n",
              "      <td>1.534242</td>\n",
              "      <td>558.416127</td>\n",
              "      <td>-37.809203</td>\n",
              "      <td>144.995216</td>\n",
              "    </tr>\n",
              "    <tr>\n",
              "      <th>std</th>\n",
              "      <td>0.955748</td>\n",
              "      <td>0.691712</td>\n",
              "      <td>3990.669241</td>\n",
              "      <td>0.079260</td>\n",
              "      <td>0.103916</td>\n",
              "    </tr>\n",
              "    <tr>\n",
              "      <th>min</th>\n",
              "      <td>1.000000</td>\n",
              "      <td>0.000000</td>\n",
              "      <td>0.000000</td>\n",
              "      <td>-38.182550</td>\n",
              "      <td>144.431810</td>\n",
              "    </tr>\n",
              "    <tr>\n",
              "      <th>25%</th>\n",
              "      <td>2.000000</td>\n",
              "      <td>1.000000</td>\n",
              "      <td>177.000000</td>\n",
              "      <td>-37.856822</td>\n",
              "      <td>144.929600</td>\n",
              "    </tr>\n",
              "    <tr>\n",
              "      <th>50%</th>\n",
              "      <td>3.000000</td>\n",
              "      <td>1.000000</td>\n",
              "      <td>440.000000</td>\n",
              "      <td>-37.802355</td>\n",
              "      <td>145.000100</td>\n",
              "    </tr>\n",
              "    <tr>\n",
              "      <th>75%</th>\n",
              "      <td>3.000000</td>\n",
              "      <td>2.000000</td>\n",
              "      <td>651.000000</td>\n",
              "      <td>-37.756400</td>\n",
              "      <td>145.058305</td>\n",
              "    </tr>\n",
              "    <tr>\n",
              "      <th>max</th>\n",
              "      <td>10.000000</td>\n",
              "      <td>8.000000</td>\n",
              "      <td>433014.000000</td>\n",
              "      <td>-37.408530</td>\n",
              "      <td>145.526350</td>\n",
              "    </tr>\n",
              "  </tbody>\n",
              "</table>\n",
              "</div>"
            ],
            "text/plain": [
              "              Rooms      Bathroom       Landsize     Lattitude    Longtitude\n",
              "count  13580.000000  13580.000000   13580.000000  13580.000000  13580.000000\n",
              "mean       2.937997      1.534242     558.416127    -37.809203    144.995216\n",
              "std        0.955748      0.691712    3990.669241      0.079260      0.103916\n",
              "min        1.000000      0.000000       0.000000    -38.182550    144.431810\n",
              "25%        2.000000      1.000000     177.000000    -37.856822    144.929600\n",
              "50%        3.000000      1.000000     440.000000    -37.802355    145.000100\n",
              "75%        3.000000      2.000000     651.000000    -37.756400    145.058305\n",
              "max       10.000000      8.000000  433014.000000    -37.408530    145.526350"
            ]
          },
          "metadata": {},
          "execution_count": 14
        }
      ]
    },
    {
      "cell_type": "markdown",
      "metadata": {
        "id": "zkfZVDypKm4y"
      },
      "source": [
        "# **Building Your Model**"
      ]
    },
    {
      "cell_type": "markdown",
      "metadata": {
        "id": "GpUWkmsS8RIB"
      },
      "source": [
        "### The steps to build and use a model are:\n",
        "* **Define:** Different models can be used to train the data. This notebook only deals with decision tree.\n",
        "* **Fit:** Here we try to fit a model, or try to find patterns in the data.\n",
        "* **Predict:** After the fitting process is complete, our model is read to predict values.\n",
        "* **Evaluate:** Hrere, we try to determine how accurate the model's predictions are. We generally do that by calculating error generated. There are many ways to do it.\n"
      ]
    },
    {
      "cell_type": "markdown",
      "metadata": {
        "id": "dbbAx3GB_AK6"
      },
      "source": [
        "### The **SCIKIT-LEAN** library is used."
      ]
    },
    {
      "cell_type": "code",
      "metadata": {
        "id": "3L0KwGLEKjrx",
        "colab": {
          "base_uri": "https://localhost:8080/"
        },
        "outputId": "405b60c2-4521-40cb-d0df-ec1c0a06965d"
      },
      "source": [
        "# Here we have used scikit-learn library to create the model.\n",
        "# While coding the library is written as sklearn.\n",
        "# We have used the decision tree from the library, so from sklearn.tree we have imported DecisionTreeRegressor class. \n",
        "\n",
        "from sklearn.tree import DecisionTreeRegressor\n",
        "\n",
        "# We create the model using this scikit-learn. The model we are trying to create is a decision tree, in this case.\n",
        "# The random_state is used to ensusre, that everytime whenever I run this code I will get the same output, due to same randomness.\n",
        "# That means, the splitting between train and test does not varies.\n",
        "# If value is changed, then different splitting will occur, resulting in slightly different prediction.\n",
        "# If not given, different models will be produced everytime the code is run.\n",
        "# There are many more paramters that can be given in this class.\n",
        "# The model is an object of the class DecisionTreeRegressor.\n",
        "\n",
        "model=DecisionTreeRegressor(random_state=1)\n",
        "\n",
        "#  Here, we fit the model using the features and the target variable, i.e., train the model.\n",
        "# The fit function can be used to fit the model. We pass the features variable first and the prediction target.\n",
        "\n",
        "model.fit(X,y)"
      ],
      "execution_count": 15,
      "outputs": [
        {
          "output_type": "execute_result",
          "data": {
            "text/plain": [
              "DecisionTreeRegressor(ccp_alpha=0.0, criterion='mse', max_depth=None,\n",
              "                      max_features=None, max_leaf_nodes=None,\n",
              "                      min_impurity_decrease=0.0, min_impurity_split=None,\n",
              "                      min_samples_leaf=1, min_samples_split=2,\n",
              "                      min_weight_fraction_leaf=0.0, presort='deprecated',\n",
              "                      random_state=1, splitter='best')"
            ]
          },
          "metadata": {},
          "execution_count": 15
        }
      ]
    },
    {
      "cell_type": "markdown",
      "metadata": {
        "id": "hCWShAwOLZeP"
      },
      "source": [
        "## **Using the model to make predictions**"
      ]
    },
    {
      "cell_type": "code",
      "metadata": {
        "id": "T5QvBJQ_LhKG",
        "colab": {
          "base_uri": "https://localhost:8080/"
        },
        "outputId": "fb404ce1-45b2-4ef8-becb-4871295d1a45"
      },
      "source": [
        "# Here, we just try to make some predictions using the model that we just created and predict values for y variable using the model.\n",
        "\n",
        "print(\"Making predictions for the following 5 houses:\")\n",
        "print(X.head())\n",
        "\n",
        "# We can predict values using the predict function, in which we pass the features for which we want to predict values for the target variable.\n",
        "# To predict the values, we in this case use the same dataset using which we have made the model.\n",
        "\n",
        "print(\"The predictions are\")\n",
        "print(model.predict(X.head()))"
      ],
      "execution_count": 16,
      "outputs": [
        {
          "output_type": "stream",
          "text": [
            "Making predictions for the following 5 houses:\n",
            "   Rooms  Bathroom  Landsize  Lattitude  Longtitude\n",
            "0      2       1.0     202.0   -37.7996    144.9984\n",
            "1      2       1.0     156.0   -37.8079    144.9934\n",
            "2      3       2.0     134.0   -37.8093    144.9944\n",
            "3      3       2.0      94.0   -37.7969    144.9969\n",
            "4      4       1.0     120.0   -37.8072    144.9941\n",
            "The predictions are\n",
            "[1480000. 1035000. 1465000.  850000. 1600000.]\n"
          ],
          "name": "stdout"
        }
      ]
    },
    {
      "cell_type": "markdown",
      "metadata": {
        "id": "acwN-CBxfavJ"
      },
      "source": [
        "# **Model Validation**"
      ]
    },
    {
      "cell_type": "markdown",
      "metadata": {
        "id": "VxtQMKsDfh69"
      },
      "source": [
        "## **What is Model Validation?**"
      ]
    },
    {
      "cell_type": "markdown",
      "metadata": {
        "id": "9fP_EP2Bf62T"
      },
      "source": [
        "### Model validation is used to predict the accuracy of the mode. We do so, by at first training a model using some data. And then we try to predict the target value using this model whose real life data is already available to us and we compare those two datas, one the predicted one and the other one already present to predict the accuracy of the model. \n",
        "\n",
        "* Now, while predicting the accuracy, one might choose the same data it has used to train the model to predicts its accuracy. But there is a huge problem with that. It is definitely not recommended.\n",
        "\n",
        "* If we try to compare the two for error, we may get a mix of good and bad predictions. So, if we got 10k predicted and actual values, then going throug 10k error will be useless. Hence, we try to summarize the this into a single metric.\n",
        "\n",
        "* There are many metrics for summarizing model quality, but here we will mainly use **Mean Absolute Error(MAE)**.\n",
        "\n",
        "* **mae = avg( | error = actual - predicted | )**\n",
        "\n",
        "> > We can say that, on average, our predictions are off by about mae. \n",
        "\n",
        "\n",
        "\n",
        "\n",
        "\n",
        "\n"
      ]
    },
    {
      "cell_type": "code",
      "metadata": {
        "id": "UZewv_zYg3Uh",
        "colab": {
          "base_uri": "https://localhost:8080/"
        },
        "outputId": "1c92e2f7-ff5b-4760-bd30-18038018f2b4"
      },
      "source": [
        "# Here we have imported the mean_aboslute_error function from sklean.metrics to find MAE.\n",
        "\n",
        "from sklearn.metrics import mean_absolute_error\n",
        "\n",
        "# We at first predict the data, store it.\n",
        "\n",
        "predicted_data = model.predict(X)\n",
        "\n",
        "# Then pass the predicted data along with the actual data/values within the MAE function to calculate the error.\n",
        "mean_absolute_error(y, predicted_data)"
      ],
      "execution_count": 17,
      "outputs": [
        {
          "output_type": "execute_result",
          "data": {
            "text/plain": [
              "1125.1804614629357"
            ]
          },
          "metadata": {},
          "execution_count": 17
        }
      ]
    },
    {
      "cell_type": "markdown",
      "metadata": {
        "id": "Q2hthius7bmm"
      },
      "source": [
        "## **The Problem with \"In-Sample\" Scores**"
      ]
    },
    {
      "cell_type": "markdown",
      "metadata": {
        "id": "1wM5Qfol7xJL"
      },
      "source": [
        "The above code uses the same data to both train and evaluate a model. But it is a bad practice, because, it may find unusual patterns in the data, which actually maynot be present outside in the real world, which results in when we use the same data to predict's its accuracy it will always predict close accurate values for those predicted target rows for which that unusual pattern exists, which affects the error value and we think that our model's accuracy is pretty high. But if we have used a different data to predict's its accuracy, then the error would have bee greater and we could have got a real taste of its accuracy.\n",
        "\n",
        "\n",
        "* One way to stay away from it is that by having different datasets for training and predicting its accuracy.\n",
        "* But if we do not have different datas, then we can divide the single dataset given into two parts randomly, where one will be used for training and the other one for predicting the model's accuracy.\n",
        "\n",
        "\n",
        "> > For diving the dataset we really do not have to do it on our own, we can do it by using the **scikit-learn** library. \n",
        "\n",
        "\n",
        "\n",
        "\n",
        "\n"
      ]
    },
    {
      "cell_type": "code",
      "metadata": {
        "id": "1I9TUtsr_V16",
        "colab": {
          "base_uri": "https://localhost:8080/"
        },
        "outputId": "9db0c53d-eec3-4d08-c28a-f5503aa97cae"
      },
      "source": [
        "# We have imported the train_test_split function to split the data from sklearn.model_selection.\n",
        "\n",
        "from sklearn.model_selection import train_test_split\n",
        "\n",
        "# We use the train_test_split function to split the data into two parts, one for training and the other for predicting accuracy.\n",
        "# We pass the random_state parameter again to fix the randomness of splitting the dataset by the function.\n",
        "# So, that everytime we run the code cell, we will get the same split.\n",
        "# We also pass the features and prediction target variables as parameters.\n",
        "# The trainig and predictio is further sub divided into two parts one for prediction target and the other for features.\n",
        "# The features are first returned accompanied by the prediction target values of training and prediction data respectively.\n",
        "\n",
        "train_X,val_X,train_y,val_y=train_test_split(X,y,random_state=0)\n",
        "\n",
        "# Here, we again train the model, fit it, predict it and find the error with the spilted data. The error may increase due to this process, which is understandable.\n",
        "model=DecisionTreeRegressor()\n",
        "model.fit(train_X,train_y)\n",
        "predicted_data=model.predict(val_X)\n",
        "print(mean_absolute_error(val_y,predicted_data))"
      ],
      "execution_count": 18,
      "outputs": [
        {
          "output_type": "stream",
          "text": [
            "249645.90014727542\n"
          ],
          "name": "stdout"
        }
      ]
    },
    {
      "cell_type": "markdown",
      "metadata": {
        "id": "4iPfbBNR3nSE"
      },
      "source": [
        "# **Underfitting and Overfitting**"
      ]
    },
    {
      "cell_type": "markdown",
      "metadata": {
        "id": "Efo8-TWP4CRx"
      },
      "source": [
        "The concept of overfitting and underfitting are discussed below."
      ]
    },
    {
      "cell_type": "markdown",
      "metadata": {
        "id": "P4ZjRkW932_G"
      },
      "source": [
        "## **Experimenting With Different Models**"
      ]
    },
    {
      "cell_type": "markdown",
      "metadata": {
        "id": "Tit1eiMQAbxB"
      },
      "source": [
        "We can create different models, by using different algorithms, or in this case of decision tree by fixing different depth values for the tree in the model, at different times."
      ]
    },
    {
      "cell_type": "markdown",
      "metadata": {
        "id": "alw9b1l03-yb"
      },
      "source": [
        "Here, overfitting and underfitting is explained over decision tree.\n",
        "\n",
        "\n",
        "*   If a tree in a model divides so many times, that the no of rows (items) based on which it defines the value of the prediction target for that particular leaf becomes very few in number, then there is a chance that the prediction done by that model will be quite close to those prediction target's actual values in the training data (i.e., almost matches the real dataset). This causes them to make very unreliable predictions for new data (because each prediction is based on only a few rows on the training set). This phenomenon is known as **Overfitting**. This may arise due to the model finding unwanted patterns in the training dataset which does not got any relaion in the real world.\n",
        "> > **Overfitting:** capturing spurious patterns that won't recur in the future, leading to less accurate predictions\n",
        "    \n",
        "*   On the other hand if a tree in a model does not divides itself into too many leaves, then definitely that model has been unable to identify and capure important patterns in the dataset which exists in real world, then predictions done by that model will also go wrong. This phenomenon is known as **Underfitting**.\n",
        "> > **Underfitting:** failing to capture relevant patterns, again leading to less accurate predictions.\n",
        "\n",
        "\n"
      ]
    },
    {
      "cell_type": "markdown",
      "metadata": {
        "id": "r-PZgLIW-LAL"
      },
      "source": [
        "![test.PNG](data:image/png;base64,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)"
      ]
    },
    {
      "cell_type": "markdown",
      "metadata": {
        "id": "HJrFq2g0-uxP"
      },
      "source": [
        "From the above picture we can see that for both the training and validation data, the **MAE** depends on the **Tree Depth**. \n",
        "\n",
        "\n",
        "\n",
        "> The left part represents the underfitting, the upper part is the overfitting, divided by the dotted line.\n",
        "\n",
        "\n",
        "> This dotted line which represents a particular tee depth for a model basically forms the junction between underfitting and overfitting. So, if we choose this tree depth for our model, then we will get the best ideal model. Here, the error value will also be the lowest.\n",
        "\n"
      ]
    },
    {
      "cell_type": "code",
      "metadata": {
        "id": "e-LH5jIS4oPw",
        "colab": {
          "base_uri": "https://localhost:8080/"
        },
        "outputId": "34583c09-6897-4c40-d8a7-80e60818c0f0"
      },
      "source": [
        "# This get_mae function helps to get mean absolute error value for different depth of the tree in the model which is given by maximum no of nodes at the leaf.\n",
        "\n",
        "def get_mae(max_leaf_nodes,train_X,train_y,val_X,val_y):\n",
        "\n",
        "  # Training the model and fitting it.\n",
        "  model=DecisionTreeRegressor(max_leaf_nodes=max_leaf_nodes, random_state=0)\n",
        "  model.fit(train_X,train_y)\n",
        "\n",
        "  # Predicting values and storing it.\n",
        "  predicted_data=model.predict(val_X)\n",
        "\n",
        "  # returnig the mae value\n",
        "  return mean_absolute_error(val_y,predicted_data)\n",
        "\n",
        "for max_leaf_nodes in [5,50,500,5000]:\n",
        "\n",
        "  # Calculating the mae value for different number of maximum leaf nodes and printing its values.\n",
        "  mae=get_mae(max_leaf_nodes,train_X,train_y,val_X,val_y)\n",
        "  print(\"Max leaf nodes: %d  \\t\\t Mean Absolute Error:  %d\"%(max_leaf_nodes,mae))"
      ],
      "execution_count": 19,
      "outputs": [
        {
          "output_type": "stream",
          "text": [
            "Max leaf nodes: 5  \t\t Mean Absolute Error:  354662\n",
            "Max leaf nodes: 50  \t\t Mean Absolute Error:  266447\n",
            "Max leaf nodes: 500  \t\t Mean Absolute Error:  231301\n",
            "Max leaf nodes: 5000  \t\t Mean Absolute Error:  249163\n"
          ],
          "name": "stdout"
        }
      ]
    },
    {
      "cell_type": "markdown",
      "metadata": {
        "id": "aGSvTtglC7P3"
      },
      "source": [
        "# **Random Forests**"
      ]
    },
    {
      "cell_type": "markdown",
      "metadata": {
        "id": "6Y3Lmt8bFa3V"
      },
      "source": [
        "To destroy or limit this problem of underfitting and overfitting, we may use other models that can lead to a better performance. \n",
        "\n",
        "The random forest uses many trees, and it makes a prediction by averaging the predictions of each component tree. It generally has much better predictive accuracy than a single decision tree and it works well with default parameters."
      ]
    },
    {
      "cell_type": "code",
      "metadata": {
        "id": "PE9SitA1F7Bi",
        "colab": {
          "base_uri": "https://localhost:8080/"
        },
        "outputId": "3a9160f5-4179-4902-dbfe-b1cce270f150"
      },
      "source": [
        "# Here to use the Radom forest model, we import it i.e., RandomForestRegressor class from sklean.ensemble.\n",
        "\n",
        "from sklearn.ensemble import RandomForestRegressor\n",
        "\n",
        "# Training and fitting the model.\n",
        "# forest_model is an object of RandomForestRegressor class.\n",
        "forest_model=RandomForestRegressor(random_state=1)\n",
        "forest_model.fit(train_X,train_y)\n",
        "\n",
        "# Predicting the values from the trained model.\n",
        "forest_predicted_data=forest_model.predict(val_X)\n",
        "\n",
        "# Calculating the mean absolute error from it.\n",
        "print(mean_absolute_error(val_y, forest_predicted_data))"
      ],
      "execution_count": 20,
      "outputs": [
        {
          "output_type": "stream",
          "text": [
            "180860.37877504269\n"
          ],
          "name": "stdout"
        }
      ]
    }
  ]
}